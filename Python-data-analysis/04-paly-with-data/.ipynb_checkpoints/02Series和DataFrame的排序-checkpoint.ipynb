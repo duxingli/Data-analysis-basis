{
 "cells": [
  {
   "cell_type": "code",
   "execution_count": 4,
   "metadata": {},
   "outputs": [],
   "source": [
    "import numpy as np\n",
    "import pandas as pd\n",
    "from pandas import Series, DataFrame"
   ]
  },
  {
   "cell_type": "markdown",
   "metadata": {},
   "source": [
    "# Series的排序"
   ]
  },
  {
   "cell_type": "code",
   "execution_count": 5,
   "metadata": {},
   "outputs": [],
   "source": [
    "s1 = Series(np.random.randn(10))"
   ]
  },
  {
   "cell_type": "code",
   "execution_count": 6,
   "metadata": {},
   "outputs": [
    {
     "data": {
      "text/plain": [
       "0    1.914905\n",
       "1   -0.308312\n",
       "2    0.361052\n",
       "3   -0.267685\n",
       "4    1.654360\n",
       "5   -0.470714\n",
       "6   -0.560186\n",
       "7   -2.182256\n",
       "8    0.376577\n",
       "9    2.551273\n",
       "dtype: float64"
      ]
     },
     "execution_count": 6,
     "metadata": {},
     "output_type": "execute_result"
    }
   ],
   "source": [
    "s1"
   ]
  },
  {
   "cell_type": "code",
   "execution_count": 7,
   "metadata": {},
   "outputs": [
    {
     "data": {
      "text/plain": [
       "array([ 1.91490495, -0.30831178,  0.36105231, -0.26768526,  1.65436049,\n",
       "       -0.47071401, -0.56018611, -2.18225622,  0.37657734,  2.55127347])"
      ]
     },
     "execution_count": 7,
     "metadata": {},
     "output_type": "execute_result"
    }
   ],
   "source": [
    "s1.values"
   ]
  },
  {
   "cell_type": "code",
   "execution_count": 8,
   "metadata": {},
   "outputs": [
    {
     "data": {
      "text/plain": [
       "RangeIndex(start=0, stop=10, step=1)"
      ]
     },
     "execution_count": 8,
     "metadata": {},
     "output_type": "execute_result"
    }
   ],
   "source": [
    "s1.index"
   ]
  },
  {
   "cell_type": "code",
   "execution_count": 14,
   "metadata": {},
   "outputs": [
    {
     "data": {
      "text/plain": [
       "7   -2.182256\n",
       "6   -0.560186\n",
       "5   -0.470714\n",
       "1   -0.308312\n",
       "3   -0.267685\n",
       "2    0.361052\n",
       "8    0.376577\n",
       "4    1.654360\n",
       "0    1.914905\n",
       "9    2.551273\n",
       "dtype: float64"
      ]
     },
     "execution_count": 14,
     "metadata": {},
     "output_type": "execute_result"
    }
   ],
   "source": [
    "s2 = s1.sort_values() #默认从小到大 升序排列\n",
    "s2"
   ]
  },
  {
   "cell_type": "code",
   "execution_count": 15,
   "metadata": {},
   "outputs": [],
   "source": [
    "s2 = s1.sort_values(ascending=False)"
   ]
  },
  {
   "cell_type": "code",
   "execution_count": 16,
   "metadata": {},
   "outputs": [
    {
     "data": {
      "text/plain": [
       "9    2.551273\n",
       "0    1.914905\n",
       "4    1.654360\n",
       "8    0.376577\n",
       "2    0.361052\n",
       "3   -0.267685\n",
       "1   -0.308312\n",
       "5   -0.470714\n",
       "6   -0.560186\n",
       "7   -2.182256\n",
       "dtype: float64"
      ]
     },
     "execution_count": 16,
     "metadata": {},
     "output_type": "execute_result"
    }
   ],
   "source": [
    "s2"
   ]
  },
  {
   "cell_type": "code",
   "execution_count": 17,
   "metadata": {},
   "outputs": [
    {
     "data": {
      "text/plain": [
       "0    1.914905\n",
       "1   -0.308312\n",
       "2    0.361052\n",
       "3   -0.267685\n",
       "4    1.654360\n",
       "5   -0.470714\n",
       "6   -0.560186\n",
       "7   -2.182256\n",
       "8    0.376577\n",
       "9    2.551273\n",
       "dtype: float64"
      ]
     },
     "execution_count": 17,
     "metadata": {},
     "output_type": "execute_result"
    }
   ],
   "source": [
    "s2.sort_index() #按照index排序"
   ]
  },
  {
   "cell_type": "markdown",
   "metadata": {},
   "source": [
    "# Dataframe的排序"
   ]
  },
  {
   "cell_type": "code",
   "execution_count": 18,
   "metadata": {},
   "outputs": [],
   "source": [
    "df1 = DataFrame(np.random.randn(40).reshape(8,5), columns=['A','B','C','D','E'])"
   ]
  },
  {
   "cell_type": "code",
   "execution_count": 19,
   "metadata": {},
   "outputs": [
    {
     "data": {
      "text/html": [
       "<div>\n",
       "<style scoped>\n",
       "    .dataframe tbody tr th:only-of-type {\n",
       "        vertical-align: middle;\n",
       "    }\n",
       "\n",
       "    .dataframe tbody tr th {\n",
       "        vertical-align: top;\n",
       "    }\n",
       "\n",
       "    .dataframe thead th {\n",
       "        text-align: right;\n",
       "    }\n",
       "</style>\n",
       "<table border=\"1\" class=\"dataframe\">\n",
       "  <thead>\n",
       "    <tr style=\"text-align: right;\">\n",
       "      <th></th>\n",
       "      <th>A</th>\n",
       "      <th>B</th>\n",
       "      <th>C</th>\n",
       "      <th>D</th>\n",
       "      <th>E</th>\n",
       "    </tr>\n",
       "  </thead>\n",
       "  <tbody>\n",
       "    <tr>\n",
       "      <th>0</th>\n",
       "      <td>0.253866</td>\n",
       "      <td>-1.263903</td>\n",
       "      <td>-0.672025</td>\n",
       "      <td>0.301202</td>\n",
       "      <td>-0.264834</td>\n",
       "    </tr>\n",
       "    <tr>\n",
       "      <th>1</th>\n",
       "      <td>-0.132220</td>\n",
       "      <td>0.716558</td>\n",
       "      <td>-0.446238</td>\n",
       "      <td>-0.347147</td>\n",
       "      <td>-0.243404</td>\n",
       "    </tr>\n",
       "    <tr>\n",
       "      <th>2</th>\n",
       "      <td>-0.279039</td>\n",
       "      <td>-0.959233</td>\n",
       "      <td>2.299316</td>\n",
       "      <td>-0.499827</td>\n",
       "      <td>1.117933</td>\n",
       "    </tr>\n",
       "    <tr>\n",
       "      <th>3</th>\n",
       "      <td>-0.394118</td>\n",
       "      <td>0.769572</td>\n",
       "      <td>0.476706</td>\n",
       "      <td>0.304949</td>\n",
       "      <td>-0.768766</td>\n",
       "    </tr>\n",
       "    <tr>\n",
       "      <th>4</th>\n",
       "      <td>-0.610244</td>\n",
       "      <td>1.745882</td>\n",
       "      <td>-0.301149</td>\n",
       "      <td>0.722505</td>\n",
       "      <td>0.863663</td>\n",
       "    </tr>\n",
       "    <tr>\n",
       "      <th>5</th>\n",
       "      <td>-0.113869</td>\n",
       "      <td>-1.014323</td>\n",
       "      <td>0.255245</td>\n",
       "      <td>0.660987</td>\n",
       "      <td>1.784156</td>\n",
       "    </tr>\n",
       "    <tr>\n",
       "      <th>6</th>\n",
       "      <td>-0.776892</td>\n",
       "      <td>-2.981048</td>\n",
       "      <td>-1.798412</td>\n",
       "      <td>0.787676</td>\n",
       "      <td>-0.466942</td>\n",
       "    </tr>\n",
       "    <tr>\n",
       "      <th>7</th>\n",
       "      <td>1.726506</td>\n",
       "      <td>-1.443118</td>\n",
       "      <td>0.008179</td>\n",
       "      <td>0.413218</td>\n",
       "      <td>-1.039756</td>\n",
       "    </tr>\n",
       "  </tbody>\n",
       "</table>\n",
       "</div>"
      ],
      "text/plain": [
       "          A         B         C         D         E\n",
       "0  0.253866 -1.263903 -0.672025  0.301202 -0.264834\n",
       "1 -0.132220  0.716558 -0.446238 -0.347147 -0.243404\n",
       "2 -0.279039 -0.959233  2.299316 -0.499827  1.117933\n",
       "3 -0.394118  0.769572  0.476706  0.304949 -0.768766\n",
       "4 -0.610244  1.745882 -0.301149  0.722505  0.863663\n",
       "5 -0.113869 -1.014323  0.255245  0.660987  1.784156\n",
       "6 -0.776892 -2.981048 -1.798412  0.787676 -0.466942\n",
       "7  1.726506 -1.443118  0.008179  0.413218 -1.039756"
      ]
     },
     "execution_count": 19,
     "metadata": {},
     "output_type": "execute_result"
    }
   ],
   "source": [
    "df1"
   ]
  },
  {
   "cell_type": "code",
   "execution_count": 20,
   "metadata": {},
   "outputs": [
    {
     "data": {
      "text/plain": [
       "6   -0.776892\n",
       "4   -0.610244\n",
       "3   -0.394118\n",
       "2   -0.279039\n",
       "1   -0.132220\n",
       "5   -0.113869\n",
       "0    0.253866\n",
       "7    1.726506\n",
       "Name: A, dtype: float64"
      ]
     },
     "execution_count": 20,
     "metadata": {},
     "output_type": "execute_result"
    }
   ],
   "source": [
    "df1['A'].sort_values()"
   ]
  },
  {
   "cell_type": "code",
   "execution_count": 21,
   "metadata": {
    "scrolled": true
   },
   "outputs": [],
   "source": [
    "df2 = df1.sort_values('A')"
   ]
  },
  {
   "cell_type": "code",
   "execution_count": 22,
   "metadata": {},
   "outputs": [
    {
     "data": {
      "text/html": [
       "<div>\n",
       "<style scoped>\n",
       "    .dataframe tbody tr th:only-of-type {\n",
       "        vertical-align: middle;\n",
       "    }\n",
       "\n",
       "    .dataframe tbody tr th {\n",
       "        vertical-align: top;\n",
       "    }\n",
       "\n",
       "    .dataframe thead th {\n",
       "        text-align: right;\n",
       "    }\n",
       "</style>\n",
       "<table border=\"1\" class=\"dataframe\">\n",
       "  <thead>\n",
       "    <tr style=\"text-align: right;\">\n",
       "      <th></th>\n",
       "      <th>A</th>\n",
       "      <th>B</th>\n",
       "      <th>C</th>\n",
       "      <th>D</th>\n",
       "      <th>E</th>\n",
       "    </tr>\n",
       "  </thead>\n",
       "  <tbody>\n",
       "    <tr>\n",
       "      <th>6</th>\n",
       "      <td>-0.776892</td>\n",
       "      <td>-2.981048</td>\n",
       "      <td>-1.798412</td>\n",
       "      <td>0.787676</td>\n",
       "      <td>-0.466942</td>\n",
       "    </tr>\n",
       "    <tr>\n",
       "      <th>4</th>\n",
       "      <td>-0.610244</td>\n",
       "      <td>1.745882</td>\n",
       "      <td>-0.301149</td>\n",
       "      <td>0.722505</td>\n",
       "      <td>0.863663</td>\n",
       "    </tr>\n",
       "    <tr>\n",
       "      <th>3</th>\n",
       "      <td>-0.394118</td>\n",
       "      <td>0.769572</td>\n",
       "      <td>0.476706</td>\n",
       "      <td>0.304949</td>\n",
       "      <td>-0.768766</td>\n",
       "    </tr>\n",
       "    <tr>\n",
       "      <th>2</th>\n",
       "      <td>-0.279039</td>\n",
       "      <td>-0.959233</td>\n",
       "      <td>2.299316</td>\n",
       "      <td>-0.499827</td>\n",
       "      <td>1.117933</td>\n",
       "    </tr>\n",
       "    <tr>\n",
       "      <th>1</th>\n",
       "      <td>-0.132220</td>\n",
       "      <td>0.716558</td>\n",
       "      <td>-0.446238</td>\n",
       "      <td>-0.347147</td>\n",
       "      <td>-0.243404</td>\n",
       "    </tr>\n",
       "    <tr>\n",
       "      <th>5</th>\n",
       "      <td>-0.113869</td>\n",
       "      <td>-1.014323</td>\n",
       "      <td>0.255245</td>\n",
       "      <td>0.660987</td>\n",
       "      <td>1.784156</td>\n",
       "    </tr>\n",
       "    <tr>\n",
       "      <th>0</th>\n",
       "      <td>0.253866</td>\n",
       "      <td>-1.263903</td>\n",
       "      <td>-0.672025</td>\n",
       "      <td>0.301202</td>\n",
       "      <td>-0.264834</td>\n",
       "    </tr>\n",
       "    <tr>\n",
       "      <th>7</th>\n",
       "      <td>1.726506</td>\n",
       "      <td>-1.443118</td>\n",
       "      <td>0.008179</td>\n",
       "      <td>0.413218</td>\n",
       "      <td>-1.039756</td>\n",
       "    </tr>\n",
       "  </tbody>\n",
       "</table>\n",
       "</div>"
      ],
      "text/plain": [
       "          A         B         C         D         E\n",
       "6 -0.776892 -2.981048 -1.798412  0.787676 -0.466942\n",
       "4 -0.610244  1.745882 -0.301149  0.722505  0.863663\n",
       "3 -0.394118  0.769572  0.476706  0.304949 -0.768766\n",
       "2 -0.279039 -0.959233  2.299316 -0.499827  1.117933\n",
       "1 -0.132220  0.716558 -0.446238 -0.347147 -0.243404\n",
       "5 -0.113869 -1.014323  0.255245  0.660987  1.784156\n",
       "0  0.253866 -1.263903 -0.672025  0.301202 -0.264834\n",
       "7  1.726506 -1.443118  0.008179  0.413218 -1.039756"
      ]
     },
     "execution_count": 22,
     "metadata": {},
     "output_type": "execute_result"
    }
   ],
   "source": [
    "df2"
   ]
  },
  {
   "cell_type": "code",
   "execution_count": 23,
   "metadata": {},
   "outputs": [
    {
     "data": {
      "text/html": [
       "<div>\n",
       "<style scoped>\n",
       "    .dataframe tbody tr th:only-of-type {\n",
       "        vertical-align: middle;\n",
       "    }\n",
       "\n",
       "    .dataframe tbody tr th {\n",
       "        vertical-align: top;\n",
       "    }\n",
       "\n",
       "    .dataframe thead th {\n",
       "        text-align: right;\n",
       "    }\n",
       "</style>\n",
       "<table border=\"1\" class=\"dataframe\">\n",
       "  <thead>\n",
       "    <tr style=\"text-align: right;\">\n",
       "      <th></th>\n",
       "      <th>A</th>\n",
       "      <th>B</th>\n",
       "      <th>C</th>\n",
       "      <th>D</th>\n",
       "      <th>E</th>\n",
       "    </tr>\n",
       "  </thead>\n",
       "  <tbody>\n",
       "    <tr>\n",
       "      <th>0</th>\n",
       "      <td>0.253866</td>\n",
       "      <td>-1.263903</td>\n",
       "      <td>-0.672025</td>\n",
       "      <td>0.301202</td>\n",
       "      <td>-0.264834</td>\n",
       "    </tr>\n",
       "    <tr>\n",
       "      <th>1</th>\n",
       "      <td>-0.132220</td>\n",
       "      <td>0.716558</td>\n",
       "      <td>-0.446238</td>\n",
       "      <td>-0.347147</td>\n",
       "      <td>-0.243404</td>\n",
       "    </tr>\n",
       "    <tr>\n",
       "      <th>2</th>\n",
       "      <td>-0.279039</td>\n",
       "      <td>-0.959233</td>\n",
       "      <td>2.299316</td>\n",
       "      <td>-0.499827</td>\n",
       "      <td>1.117933</td>\n",
       "    </tr>\n",
       "    <tr>\n",
       "      <th>3</th>\n",
       "      <td>-0.394118</td>\n",
       "      <td>0.769572</td>\n",
       "      <td>0.476706</td>\n",
       "      <td>0.304949</td>\n",
       "      <td>-0.768766</td>\n",
       "    </tr>\n",
       "    <tr>\n",
       "      <th>4</th>\n",
       "      <td>-0.610244</td>\n",
       "      <td>1.745882</td>\n",
       "      <td>-0.301149</td>\n",
       "      <td>0.722505</td>\n",
       "      <td>0.863663</td>\n",
       "    </tr>\n",
       "    <tr>\n",
       "      <th>5</th>\n",
       "      <td>-0.113869</td>\n",
       "      <td>-1.014323</td>\n",
       "      <td>0.255245</td>\n",
       "      <td>0.660987</td>\n",
       "      <td>1.784156</td>\n",
       "    </tr>\n",
       "    <tr>\n",
       "      <th>6</th>\n",
       "      <td>-0.776892</td>\n",
       "      <td>-2.981048</td>\n",
       "      <td>-1.798412</td>\n",
       "      <td>0.787676</td>\n",
       "      <td>-0.466942</td>\n",
       "    </tr>\n",
       "    <tr>\n",
       "      <th>7</th>\n",
       "      <td>1.726506</td>\n",
       "      <td>-1.443118</td>\n",
       "      <td>0.008179</td>\n",
       "      <td>0.413218</td>\n",
       "      <td>-1.039756</td>\n",
       "    </tr>\n",
       "  </tbody>\n",
       "</table>\n",
       "</div>"
      ],
      "text/plain": [
       "          A         B         C         D         E\n",
       "0  0.253866 -1.263903 -0.672025  0.301202 -0.264834\n",
       "1 -0.132220  0.716558 -0.446238 -0.347147 -0.243404\n",
       "2 -0.279039 -0.959233  2.299316 -0.499827  1.117933\n",
       "3 -0.394118  0.769572  0.476706  0.304949 -0.768766\n",
       "4 -0.610244  1.745882 -0.301149  0.722505  0.863663\n",
       "5 -0.113869 -1.014323  0.255245  0.660987  1.784156\n",
       "6 -0.776892 -2.981048 -1.798412  0.787676 -0.466942\n",
       "7  1.726506 -1.443118  0.008179  0.413218 -1.039756"
      ]
     },
     "execution_count": 23,
     "metadata": {},
     "output_type": "execute_result"
    }
   ],
   "source": [
    "df2.sort_index()"
   ]
  },
  {
   "cell_type": "code",
   "execution_count": 24,
   "metadata": {},
   "outputs": [
    {
     "data": {
      "text/html": [
       "<div>\n",
       "<style scoped>\n",
       "    .dataframe tbody tr th:only-of-type {\n",
       "        vertical-align: middle;\n",
       "    }\n",
       "\n",
       "    .dataframe tbody tr th {\n",
       "        vertical-align: top;\n",
       "    }\n",
       "\n",
       "    .dataframe thead th {\n",
       "        text-align: right;\n",
       "    }\n",
       "</style>\n",
       "<table border=\"1\" class=\"dataframe\">\n",
       "  <thead>\n",
       "    <tr style=\"text-align: right;\">\n",
       "      <th></th>\n",
       "      <th>A</th>\n",
       "      <th>B</th>\n",
       "      <th>C</th>\n",
       "      <th>D</th>\n",
       "      <th>E</th>\n",
       "    </tr>\n",
       "  </thead>\n",
       "  <tbody>\n",
       "    <tr>\n",
       "      <th>0</th>\n",
       "      <td>0.253866</td>\n",
       "      <td>-1.263903</td>\n",
       "      <td>-0.672025</td>\n",
       "      <td>0.301202</td>\n",
       "      <td>-0.264834</td>\n",
       "    </tr>\n",
       "    <tr>\n",
       "      <th>1</th>\n",
       "      <td>-0.132220</td>\n",
       "      <td>0.716558</td>\n",
       "      <td>-0.446238</td>\n",
       "      <td>-0.347147</td>\n",
       "      <td>-0.243404</td>\n",
       "    </tr>\n",
       "    <tr>\n",
       "      <th>2</th>\n",
       "      <td>-0.279039</td>\n",
       "      <td>-0.959233</td>\n",
       "      <td>2.299316</td>\n",
       "      <td>-0.499827</td>\n",
       "      <td>1.117933</td>\n",
       "    </tr>\n",
       "    <tr>\n",
       "      <th>3</th>\n",
       "      <td>-0.394118</td>\n",
       "      <td>0.769572</td>\n",
       "      <td>0.476706</td>\n",
       "      <td>0.304949</td>\n",
       "      <td>-0.768766</td>\n",
       "    </tr>\n",
       "    <tr>\n",
       "      <th>4</th>\n",
       "      <td>-0.610244</td>\n",
       "      <td>1.745882</td>\n",
       "      <td>-0.301149</td>\n",
       "      <td>0.722505</td>\n",
       "      <td>0.863663</td>\n",
       "    </tr>\n",
       "    <tr>\n",
       "      <th>5</th>\n",
       "      <td>-0.113869</td>\n",
       "      <td>-1.014323</td>\n",
       "      <td>0.255245</td>\n",
       "      <td>0.660987</td>\n",
       "      <td>1.784156</td>\n",
       "    </tr>\n",
       "    <tr>\n",
       "      <th>6</th>\n",
       "      <td>-0.776892</td>\n",
       "      <td>-2.981048</td>\n",
       "      <td>-1.798412</td>\n",
       "      <td>0.787676</td>\n",
       "      <td>-0.466942</td>\n",
       "    </tr>\n",
       "    <tr>\n",
       "      <th>7</th>\n",
       "      <td>1.726506</td>\n",
       "      <td>-1.443118</td>\n",
       "      <td>0.008179</td>\n",
       "      <td>0.413218</td>\n",
       "      <td>-1.039756</td>\n",
       "    </tr>\n",
       "  </tbody>\n",
       "</table>\n",
       "</div>"
      ],
      "text/plain": [
       "          A         B         C         D         E\n",
       "0  0.253866 -1.263903 -0.672025  0.301202 -0.264834\n",
       "1 -0.132220  0.716558 -0.446238 -0.347147 -0.243404\n",
       "2 -0.279039 -0.959233  2.299316 -0.499827  1.117933\n",
       "3 -0.394118  0.769572  0.476706  0.304949 -0.768766\n",
       "4 -0.610244  1.745882 -0.301149  0.722505  0.863663\n",
       "5 -0.113869 -1.014323  0.255245  0.660987  1.784156\n",
       "6 -0.776892 -2.981048 -1.798412  0.787676 -0.466942\n",
       "7  1.726506 -1.443118  0.008179  0.413218 -1.039756"
      ]
     },
     "execution_count": 24,
     "metadata": {},
     "output_type": "execute_result"
    }
   ],
   "source": [
    "df1"
   ]
  },
  {
   "cell_type": "code",
   "execution_count": null,
   "metadata": {},
   "outputs": [],
   "source": [
    "!ls"
   ]
  },
  {
   "cell_type": "code",
   "execution_count": 25,
   "metadata": {},
   "outputs": [],
   "source": [
    "df_results = pd.read_csv('imdb.csv')"
   ]
  },
  {
   "cell_type": "code",
   "execution_count": 26,
   "metadata": {},
   "outputs": [
    {
     "ename": "NameError",
     "evalue": "name 'df_resu' is not defined",
     "output_type": "error",
     "traceback": [
      "\u001b[1;31m---------------------------------------------------------------------------\u001b[0m",
      "\u001b[1;31mNameError\u001b[0m                                 Traceback (most recent call last)",
      "\u001b[1;32m<ipython-input-26-cb97243e501f>\u001b[0m in \u001b[0;36m<module>\u001b[1;34m\u001b[0m\n\u001b[1;32m----> 1\u001b[1;33m \u001b[0mdf_resu\u001b[0m\u001b[1;33m\u001b[0m\u001b[1;33m\u001b[0m\u001b[0m\n\u001b[0m",
      "\u001b[1;31mNameError\u001b[0m: name 'df_resu' is not defined"
     ]
    }
   ],
   "source": [
    "df_resu"
   ]
  },
  {
   "cell_type": "code",
   "execution_count": null,
   "metadata": {},
   "outputs": [],
   "source": []
  }
 ],
 "metadata": {
  "kernelspec": {
   "display_name": "Python 3",
   "language": "python",
   "name": "python3"
  },
  "language_info": {
   "codemirror_mode": {
    "name": "ipython",
    "version": 3
   },
   "file_extension": ".py",
   "mimetype": "text/x-python",
   "name": "python",
   "nbconvert_exporter": "python",
   "pygments_lexer": "ipython3",
   "version": "3.8.8"
  }
 },
 "nbformat": 4,
 "nbformat_minor": 2
}
